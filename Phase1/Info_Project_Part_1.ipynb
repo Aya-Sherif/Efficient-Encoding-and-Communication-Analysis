{
  "nbformat": 4,
  "nbformat_minor": 0,
  "metadata": {
    "colab": {
      "provenance": [],
      "collapsed_sections": [
        "DBR8f6uXHOvZ"
      ]
    },
    "kernelspec": {
      "name": "python3",
      "display_name": "Python 3"
    },
    "language_info": {
      "name": "python"
    }
  },
  "cells": [
    {
      "cell_type": "markdown",
      "source": [
        "# Setup"
      ],
      "metadata": {
        "id": "P5AegQEXGLIB"
      }
    },
    {
      "cell_type": "markdown",
      "source": [
        "Importing file"
      ],
      "metadata": {
        "id": "jHwKbzs6IrD6"
      }
    },
    {
      "cell_type": "code",
      "source": [
        "from google.colab import files\n",
        "\n",
        "\n",
        "text_file = files.upload()"
      ],
      "metadata": {
        "colab": {
          "base_uri": "https://localhost:8080/",
          "height": 73
        },
        "id": "SXLkkhd0ItLq",
        "outputId": "d519e558-073c-4967-ba4f-e49497af8a9b"
      },
      "execution_count": 35,
      "outputs": [
        {
          "output_type": "display_data",
          "data": {
            "text/plain": [
              "<IPython.core.display.HTML object>"
            ],
            "text/html": [
              "\n",
              "     <input type=\"file\" id=\"files-80476372-8b48-4b1f-bd58-26422f64bd73\" name=\"files[]\" multiple disabled\n",
              "        style=\"border:none\" />\n",
              "     <output id=\"result-80476372-8b48-4b1f-bd58-26422f64bd73\">\n",
              "      Upload widget is only available when the cell has been executed in the\n",
              "      current browser session. Please rerun this cell to enable.\n",
              "      </output>\n",
              "      <script>// Copyright 2017 Google LLC\n",
              "//\n",
              "// Licensed under the Apache License, Version 2.0 (the \"License\");\n",
              "// you may not use this file except in compliance with the License.\n",
              "// You may obtain a copy of the License at\n",
              "//\n",
              "//      http://www.apache.org/licenses/LICENSE-2.0\n",
              "//\n",
              "// Unless required by applicable law or agreed to in writing, software\n",
              "// distributed under the License is distributed on an \"AS IS\" BASIS,\n",
              "// WITHOUT WARRANTIES OR CONDITIONS OF ANY KIND, either express or implied.\n",
              "// See the License for the specific language governing permissions and\n",
              "// limitations under the License.\n",
              "\n",
              "/**\n",
              " * @fileoverview Helpers for google.colab Python module.\n",
              " */\n",
              "(function(scope) {\n",
              "function span(text, styleAttributes = {}) {\n",
              "  const element = document.createElement('span');\n",
              "  element.textContent = text;\n",
              "  for (const key of Object.keys(styleAttributes)) {\n",
              "    element.style[key] = styleAttributes[key];\n",
              "  }\n",
              "  return element;\n",
              "}\n",
              "\n",
              "// Max number of bytes which will be uploaded at a time.\n",
              "const MAX_PAYLOAD_SIZE = 100 * 1024;\n",
              "\n",
              "function _uploadFiles(inputId, outputId) {\n",
              "  const steps = uploadFilesStep(inputId, outputId);\n",
              "  const outputElement = document.getElementById(outputId);\n",
              "  // Cache steps on the outputElement to make it available for the next call\n",
              "  // to uploadFilesContinue from Python.\n",
              "  outputElement.steps = steps;\n",
              "\n",
              "  return _uploadFilesContinue(outputId);\n",
              "}\n",
              "\n",
              "// This is roughly an async generator (not supported in the browser yet),\n",
              "// where there are multiple asynchronous steps and the Python side is going\n",
              "// to poll for completion of each step.\n",
              "// This uses a Promise to block the python side on completion of each step,\n",
              "// then passes the result of the previous step as the input to the next step.\n",
              "function _uploadFilesContinue(outputId) {\n",
              "  const outputElement = document.getElementById(outputId);\n",
              "  const steps = outputElement.steps;\n",
              "\n",
              "  const next = steps.next(outputElement.lastPromiseValue);\n",
              "  return Promise.resolve(next.value.promise).then((value) => {\n",
              "    // Cache the last promise value to make it available to the next\n",
              "    // step of the generator.\n",
              "    outputElement.lastPromiseValue = value;\n",
              "    return next.value.response;\n",
              "  });\n",
              "}\n",
              "\n",
              "/**\n",
              " * Generator function which is called between each async step of the upload\n",
              " * process.\n",
              " * @param {string} inputId Element ID of the input file picker element.\n",
              " * @param {string} outputId Element ID of the output display.\n",
              " * @return {!Iterable<!Object>} Iterable of next steps.\n",
              " */\n",
              "function* uploadFilesStep(inputId, outputId) {\n",
              "  const inputElement = document.getElementById(inputId);\n",
              "  inputElement.disabled = false;\n",
              "\n",
              "  const outputElement = document.getElementById(outputId);\n",
              "  outputElement.innerHTML = '';\n",
              "\n",
              "  const pickedPromise = new Promise((resolve) => {\n",
              "    inputElement.addEventListener('change', (e) => {\n",
              "      resolve(e.target.files);\n",
              "    });\n",
              "  });\n",
              "\n",
              "  const cancel = document.createElement('button');\n",
              "  inputElement.parentElement.appendChild(cancel);\n",
              "  cancel.textContent = 'Cancel upload';\n",
              "  const cancelPromise = new Promise((resolve) => {\n",
              "    cancel.onclick = () => {\n",
              "      resolve(null);\n",
              "    };\n",
              "  });\n",
              "\n",
              "  // Wait for the user to pick the files.\n",
              "  const files = yield {\n",
              "    promise: Promise.race([pickedPromise, cancelPromise]),\n",
              "    response: {\n",
              "      action: 'starting',\n",
              "    }\n",
              "  };\n",
              "\n",
              "  cancel.remove();\n",
              "\n",
              "  // Disable the input element since further picks are not allowed.\n",
              "  inputElement.disabled = true;\n",
              "\n",
              "  if (!files) {\n",
              "    return {\n",
              "      response: {\n",
              "        action: 'complete',\n",
              "      }\n",
              "    };\n",
              "  }\n",
              "\n",
              "  for (const file of files) {\n",
              "    const li = document.createElement('li');\n",
              "    li.append(span(file.name, {fontWeight: 'bold'}));\n",
              "    li.append(span(\n",
              "        `(${file.type || 'n/a'}) - ${file.size} bytes, ` +\n",
              "        `last modified: ${\n",
              "            file.lastModifiedDate ? file.lastModifiedDate.toLocaleDateString() :\n",
              "                                    'n/a'} - `));\n",
              "    const percent = span('0% done');\n",
              "    li.appendChild(percent);\n",
              "\n",
              "    outputElement.appendChild(li);\n",
              "\n",
              "    const fileDataPromise = new Promise((resolve) => {\n",
              "      const reader = new FileReader();\n",
              "      reader.onload = (e) => {\n",
              "        resolve(e.target.result);\n",
              "      };\n",
              "      reader.readAsArrayBuffer(file);\n",
              "    });\n",
              "    // Wait for the data to be ready.\n",
              "    let fileData = yield {\n",
              "      promise: fileDataPromise,\n",
              "      response: {\n",
              "        action: 'continue',\n",
              "      }\n",
              "    };\n",
              "\n",
              "    // Use a chunked sending to avoid message size limits. See b/62115660.\n",
              "    let position = 0;\n",
              "    do {\n",
              "      const length = Math.min(fileData.byteLength - position, MAX_PAYLOAD_SIZE);\n",
              "      const chunk = new Uint8Array(fileData, position, length);\n",
              "      position += length;\n",
              "\n",
              "      const base64 = btoa(String.fromCharCode.apply(null, chunk));\n",
              "      yield {\n",
              "        response: {\n",
              "          action: 'append',\n",
              "          file: file.name,\n",
              "          data: base64,\n",
              "        },\n",
              "      };\n",
              "\n",
              "      let percentDone = fileData.byteLength === 0 ?\n",
              "          100 :\n",
              "          Math.round((position / fileData.byteLength) * 100);\n",
              "      percent.textContent = `${percentDone}% done`;\n",
              "\n",
              "    } while (position < fileData.byteLength);\n",
              "  }\n",
              "\n",
              "  // All done.\n",
              "  yield {\n",
              "    response: {\n",
              "      action: 'complete',\n",
              "    }\n",
              "  };\n",
              "}\n",
              "\n",
              "scope.google = scope.google || {};\n",
              "scope.google.colab = scope.google.colab || {};\n",
              "scope.google.colab._files = {\n",
              "  _uploadFiles,\n",
              "  _uploadFilesContinue,\n",
              "};\n",
              "})(self);\n",
              "</script> "
            ]
          },
          "metadata": {}
        },
        {
          "output_type": "stream",
          "name": "stdout",
          "text": [
            "Saving Test_text_file.txt to Test_text_file.txt\n"
          ]
        }
      ]
    },
    {
      "cell_type": "markdown",
      "source": [
        "1. Computing an estimate of the\n",
        "probabilities of the different English characters (symbols) in this text\n",
        "file"
      ],
      "metadata": {
        "id": "nFoji72nFZyR"
      }
    },
    {
      "cell_type": "code",
      "execution_count": 36,
      "metadata": {
        "id": "ajfQmsaXFLcu",
        "colab": {
          "base_uri": "https://localhost:8080/"
        },
        "outputId": "44421cdd-b851-43e3-9dc2-84194bf6549c"
      },
      "outputs": [
        {
          "output_type": "stream",
          "name": "stdout",
          "text": [
            "{'a': 0.07193732193732194, 'b': 0.012108262108262107, 'c': 0.026353276353276354, 'd': 0.045584045584045586, 'e': 0.10398860398860399, 'f': 0.013532763532763533, 'g': 0.014245014245014245, 'h': 0.02207977207977208, 'i': 0.06054131054131054, 'j': 0.0007122507122507123, 'k': 0.0007122507122507123, 'l': 0.04202279202279202, 'm': 0.021367521367521368, 'n': 0.0641025641025641, 'o': 0.06267806267806268, 'p': 0.037037037037037035, 'q': 0.0007122507122507123, 'r': 0.05982905982905983, 's': 0.05626780626780627, 't': 0.07193732193732194, 'u': 0.018518518518518517, 'v': 0.009259259259259259, 'w': 0.007834757834757835, 'x': 0.004985754985754986, 'y': 0.00641025641025641, 'z': 0.002136752136752137, '(': 0.002136752136752137, ')': 0.002136752136752137, '.': 0.004273504273504274, ',': 0.007834757834757835, '/': 0.0007122507122507123, '-': 0.011396011396011397, ' ': 0.1346153846153846}\n"
          ]
        }
      ],
      "source": [
        "# saving the text in the file in a string\n",
        "text = text_file[\"Test_text_file.txt\"]\n",
        "\n",
        "text = str(text)\n",
        "text = text[2:len(text)-1]\n",
        "\n",
        "# create dictionary with character and their coressponding probability\n",
        "char_probability = {}\n",
        "for i in range(97, 123):\n",
        "    char_probability[chr(i)] = 0\n",
        "char_probability['('] = 0\n",
        "char_probability[')'] = 0\n",
        "char_probability['.'] = 0\n",
        "char_probability[','] = 0\n",
        "char_probability['/'] = 0\n",
        "char_probability['-'] = 0\n",
        "char_probability[' '] = 0\n",
        "\n",
        "for c in text:\n",
        "    char_probability[c] += 1\n",
        "for x in char_probability:\n",
        "    char_probability[x] = char_probability[x]/len(text)\n",
        "print(char_probability)"
      ]
    },
    {
      "cell_type": "markdown",
      "source": [
        "2. Calculating the entropy"
      ],
      "metadata": {
        "id": "B43eowA7Fl9g"
      }
    },
    {
      "cell_type": "code",
      "source": [
        "import math\n",
        "entropy = 0\n",
        "for c in char_probability:\n",
        "    entropy += -char_probability[c] * math.log2(char_probability[c])\n",
        "\n",
        "entropy"
      ],
      "metadata": {
        "id": "zXy3tpydFtkZ",
        "colab": {
          "base_uri": "https://localhost:8080/"
        },
        "outputId": "643102d0-e9c2-4273-b208-184293b7595a"
      },
      "execution_count": 37,
      "outputs": [
        {
          "output_type": "execute_result",
          "data": {
            "text/plain": [
              "4.25701056473807"
            ]
          },
          "metadata": {},
          "execution_count": 37
        }
      ]
    },
    {
      "cell_type": "markdown",
      "source": [
        "3. Calculating the number of bits/symbol in a fixed length\n",
        "code and its effeciency"
      ],
      "metadata": {
        "id": "toNHMZASFt1B"
      }
    },
    {
      "cell_type": "code",
      "source": [
        "bits_fixed_length =  math.ceil(math.log2(len(char_probability)))\n",
        "effeciency_fixed_length = entropy/bits_fixed_length\n",
        "print(\"fixed length code\\t \"+ str(bits_fixed_length) + \" bits/symbol\\n\", \"effeciency\\t\\t\", effeciency_fixed_length*100, \" %\")"
      ],
      "metadata": {
        "id": "R6tfd8q7F2Dh",
        "colab": {
          "base_uri": "https://localhost:8080/"
        },
        "outputId": "5b2d43e2-42a1-4bf2-e4e4-65c6878d3577"
      },
      "execution_count": 38,
      "outputs": [
        {
          "output_type": "stream",
          "name": "stdout",
          "text": [
            "fixed length code\t 6 bits/symbol\n",
            " effeciency\t\t 70.95017607896783  %\n"
          ]
        }
      ]
    },
    {
      "cell_type": "markdown",
      "source": [
        "# Huffman"
      ],
      "metadata": {
        "id": "iA6yGd_4F2Ux"
      }
    },
    {
      "cell_type": "markdown",
      "source": [
        "4. Encoder"
      ],
      "metadata": {
        "id": "slYA-BqLGHXR"
      }
    },
    {
      "cell_type": "code",
      "source": [
        "# creating class for tree node\n",
        "class Node:\n",
        "    def __init__(self, char=None, probability=0):\n",
        "        self.char = char\n",
        "        self.probability = probability\n",
        "        self.left = None\n",
        "        self.right = None\n",
        "\n",
        "# initializing nodes\n",
        "tree = []\n",
        "for x in char_probability:\n",
        "    tree.append(Node(x, char_probability[x]))\n",
        "\n",
        "# creating tree\n",
        "while(len(tree) > 1):\n",
        "    tree.sort(key = lambda p: -p.probability)  # sort probabilities descendingly\n",
        "    left = tree.pop()\n",
        "    right = tree.pop()\n",
        "    node = Node('*',left.probability + right.probability)\n",
        "    node.right = right\n",
        "    node.left = left\n",
        "    tree.append(node)\n",
        "\n",
        "\n",
        "\n",
        "# creating code\n",
        "char_code = {}\n",
        "for x in char_probability:\n",
        "    char_code[x] = \"\"\n",
        "\n",
        "def code(node, node_code):\n",
        "    if node:\n",
        "        if node.char != '*':\n",
        "            char_code[node.char] = node_code\n",
        "        code(node.left, node_code + \"0\")\n",
        "        code(node.right, node_code  + \"1\")\n",
        "\n",
        "code(tree[0],'')\n",
        "\n",
        "def encode_huffman(text):\n",
        "    encoded_text = \"\"\n",
        "    for s in text:\n",
        "        encoded_text += char_code[s]\n",
        "\n",
        "    return encoded_text\n",
        "\n",
        "huffman_encoded_text = encode_huffman(text)\n"
      ],
      "metadata": {
        "id": "0pxKnfyeGY8x"
      },
      "execution_count": 39,
      "outputs": []
    },
    {
      "cell_type": "markdown",
      "source": [
        "5. Decoder"
      ],
      "metadata": {
        "id": "1kaqC2-TGZMa"
      }
    },
    {
      "cell_type": "code",
      "source": [
        "# Decode the Huffman encoded text directly\n",
        "def decode_huffman(encoded_text, root):\n",
        "    decoded_text = \"\"\n",
        "    current_node = root\n",
        "\n",
        "    for bit in encoded_text:\n",
        "        if bit == '0':\n",
        "            current_node = current_node.left\n",
        "        elif bit == '1':\n",
        "            current_node = current_node.right\n",
        "\n",
        "        # If a leaf node is reached, append the character and reset to root\n",
        "        if current_node.char != '*':  # Leaf node\n",
        "            decoded_text += current_node.char\n",
        "            current_node = root  # Reset to root for the next character\n",
        "\n",
        "    return decoded_text\n",
        "\n",
        "# Decode the encoded text\n",
        "decoded_text = decode_huffman(huffman_encoded_text, tree[0])\n",
        "\n",
        "# Print the decoded text\n",
        "print(\"Decoded Text:\")\n",
        "print(decoded_text)\n",
        "\n"
      ],
      "metadata": {
        "id": "92XJwQ8BGh0i",
        "colab": {
          "base_uri": "https://localhost:8080/"
        },
        "outputId": "ef642c5a-4e0a-4bd9-9a39-259f7c2cc63a"
      },
      "execution_count": 40,
      "outputs": [
        {
          "output_type": "stream",
          "name": "stdout",
          "text": [
            "Decoded Text:\n",
            "in this paper, a novel decorrelation-based concurrent digital predistortion (dpd) solution is proposed for dual-band transmitters (tx) employing a single wideband power amplifier (pa), and utilizing just a single feedback receiver path. the proposed decorrelation-based parameter learning solution is both flexible and simple, and operates in a closed-loop manner, opposed to the widely applied indirect learning architecture. the proposed decorrelation-based learning and dpd processing can also be effectively applied to more ordinary single-band transmissions, as well as generalized to more than two transmit bands. through a comprehensive analysis covering both the dpd parameter learning and the main path processing, it is shown that the complexity of the proposed concurrent dpd is substantially lower compared with the other state-of-the-art concurrent dpd methods. extensive set of quantitative simulation and rf measurement results are also presented, using a base-station pa as well as a commercial lte-advanced mobile pa, to evaluate and validate the effectiveness of the proposed dpd solution in various real world scenarios, incorporating single-band/dual-band tx cases. the simulation and rf measurement results demonstrate excellent linearization performance of the proposed concurrent dpd, even outperforming current state-of-the-art methods, despite the significantly lower complexity.\n"
          ]
        }
      ]
    },
    {
      "cell_type": "code",
      "source": [
        "with open(\"decode_file.txt\", \"w\") as file:\n",
        "    file.write(decoded_text)"
      ],
      "metadata": {
        "id": "rL6GpB0hdOPy"
      },
      "execution_count": 41,
      "outputs": []
    },
    {
      "cell_type": "markdown",
      "source": [
        "comparing decoded stream with the original stream"
      ],
      "metadata": {
        "id": "5zQe7w3IGkGx"
      }
    },
    {
      "cell_type": "code",
      "source": [
        "\n",
        "def CompareTexts(text1, text2):\n",
        "  if len(text1) != len(text2):\n",
        "    return False\n",
        "  for i in range(0, len(text1)):\n",
        "    if text1[i] != text2[i]:\n",
        "      print(i)\n",
        "      return False\n",
        "  return True\n",
        "\n",
        "print(\"Texts are the same\") if CompareTexts(text, decoded_text) else print(\"Texts are not the same\")"
      ],
      "metadata": {
        "colab": {
          "base_uri": "https://localhost:8080/"
        },
        "id": "6ZcIiHbycxlk",
        "outputId": "81877dc1-4434-4feb-da0e-9d986e41cec1"
      },
      "execution_count": 42,
      "outputs": [
        {
          "output_type": "stream",
          "name": "stdout",
          "text": [
            "Texts are the same\n"
          ]
        }
      ]
    },
    {
      "cell_type": "markdown",
      "source": [
        "6. Calculating the efficiency of the Huffman code"
      ],
      "metadata": {
        "id": "IyYwqAGBGsiB"
      }
    },
    {
      "cell_type": "code",
      "source": [
        "def CalculateEfficiencyHuffman():\n",
        "  average_code_length = 0\n",
        "  for code in char_code:\n",
        "    average_code_length += len(char_code[code]) * char_probability[code]\n",
        "  return entropy / average_code_length\n",
        "\n",
        "print(\"Huffman code efficiency: \", CalculateEfficiencyHuffman())"
      ],
      "metadata": {
        "id": "H5FIuw4DGxbZ",
        "colab": {
          "base_uri": "https://localhost:8080/"
        },
        "outputId": "6045ded8-34ff-4cb7-94a6-ad7f8b3e3bfb"
      },
      "execution_count": 43,
      "outputs": [
        {
          "output_type": "stream",
          "name": "stdout",
          "text": [
            "Huffman code efficiency:  0.995476820934752\n"
          ]
        }
      ]
    },
    {
      "cell_type": "markdown",
      "source": [
        "# Shannon-Fano"
      ],
      "metadata": {
        "id": "nqep1F-AGxsK"
      }
    },
    {
      "cell_type": "markdown",
      "source": [
        "7. Encoder"
      ],
      "metadata": {
        "id": "TIfLCzegG6MB"
      }
    },
    {
      "cell_type": "code",
      "source": [
        "from pprint import pprint\n",
        "def ShannonFanoEncoder(symbols):\n",
        "  codes = {}\n",
        "  assignCodes(symbols, \"\", codes)\n",
        "  return codes\n",
        "\n",
        "def assignCodes(symbols, prefix, codes):\n",
        "    if len(symbols) == 1:\n",
        "        codes[symbols[0][0]] = prefix\n",
        "        return\n",
        "\n",
        "    splitPoint = findSplitPoint(symbols)\n",
        "    firstGroup = symbols[:splitPoint + 1]\n",
        "    secondGroup = symbols[splitPoint + 1:]\n",
        "\n",
        "    assignCodes(firstGroup, prefix + \"0\", codes)\n",
        "    assignCodes(secondGroup, prefix + \"1\", codes)\n",
        "\n",
        "\n",
        "def findSplitPoint(symbols):\n",
        "    totalFrequency = 0\n",
        "    for i in range(0, len(symbols)):\n",
        "        totalFrequency += symbols[i][1]\n",
        "\n",
        "    cumulativeFrequency = 0\n",
        "    half_total = totalFrequency / 2\n",
        "    for i in range(0, len(symbols)):\n",
        "        cumulativeFrequency += symbols[i][1]\n",
        "        if cumulativeFrequency >= half_total:\n",
        "          return i if (abs(cumulativeFrequency - half_total) < abs(cumulativeFrequency - (half_total + symbols[i][1]))) else i - 1\n",
        "\n",
        "\n",
        "    return len(symbols) - 1\n",
        "\n",
        "def EncodeText(text, codes):\n",
        "  encoded_text = \"\"\n",
        "  for char in text:\n",
        "    encoded_text += codes[char]\n",
        "  return encoded_text\n",
        "\n",
        "\n",
        "char_probability1 = {\n",
        "    'a': 0.3,\n",
        "    'b': 0.25,\n",
        "    'c': 0.2,\n",
        "    'd': 0.15,\n",
        "    'e': 0.1\n",
        "}\n",
        "text1 = \"abcdabcdabdd\"\n",
        "\n",
        "sorted_char_probability = sorted(char_probability.items(), key=lambda x: x[1],  reverse=True)\n",
        "codes = ShannonFanoEncoder(sorted_char_probability)\n",
        "encoded_text = EncodeText(text, codes)"
      ],
      "metadata": {
        "id": "2-YQuil8G9RZ"
      },
      "execution_count": 44,
      "outputs": []
    },
    {
      "cell_type": "markdown",
      "source": [
        "Decoder"
      ],
      "metadata": {
        "id": "mGdWJkRBG9oZ"
      }
    },
    {
      "cell_type": "code",
      "source": [
        "def ShannonFanoDecoder(encoded_text, codes):\n",
        "    decoded_text = \"\"\n",
        "    current_code = \"\"\n",
        "    for char in encoded_text:\n",
        "        current_code += char\n",
        "        for code in codes:\n",
        "            if codes[code] == current_code:\n",
        "                decoded_text += code\n",
        "                current_code = \"\"\n",
        "                break\n",
        "    return decoded_text\n",
        "\n",
        "\n",
        "decoded_text = ShannonFanoDecoder(encoded_text, codes)\n"
      ],
      "metadata": {
        "id": "PfhA0YUDG-5B"
      },
      "execution_count": 45,
      "outputs": []
    },
    {
      "cell_type": "markdown",
      "source": [
        "comparing decoded stream with the original stream"
      ],
      "metadata": {
        "id": "8za20g6eG_LB"
      }
    },
    {
      "cell_type": "code",
      "source": [
        "def CompareTexts(text1, text2):\n",
        "  if len(text1) != len(text2):\n",
        "    return False\n",
        "  for i in range(0, len(text1)):\n",
        "    if text1[i] != text2[i]:\n",
        "      print(i)\n",
        "      return False\n",
        "  return True\n",
        "\n",
        "print(\"Texts are the same\") if CompareTexts(text, decoded_text) else print(\"Texts are not the same\")"
      ],
      "metadata": {
        "id": "heCGEa2hHBt5",
        "colab": {
          "base_uri": "https://localhost:8080/"
        },
        "outputId": "a79cd031-c689-451c-c502-b0b7128a6c55"
      },
      "execution_count": 46,
      "outputs": [
        {
          "output_type": "stream",
          "name": "stdout",
          "text": [
            "Texts are the same\n"
          ]
        }
      ]
    },
    {
      "cell_type": "markdown",
      "source": [
        "Calculating the efficiency of the Shannon-Fano code"
      ],
      "metadata": {
        "id": "_mWqAdIwHB5a"
      }
    },
    {
      "cell_type": "code",
      "source": [
        "def CalculateEfficiencyShannon():\n",
        "  average_code_length = 0\n",
        "  for code in codes:\n",
        "    average_code_length += len(codes[code]) * char_probability[code]\n",
        "  return entropy / average_code_length\n",
        "\n",
        "print(\"Shannon-Fano code efficiency: \", CalculateEfficiencyShannon())"
      ],
      "metadata": {
        "id": "iZAgCOGzHIF6",
        "colab": {
          "base_uri": "https://localhost:8080/"
        },
        "outputId": "6e56d81a-94ea-4850-84e9-af837dbe8553"
      },
      "execution_count": 47,
      "outputs": [
        {
          "output_type": "stream",
          "name": "stdout",
          "text": [
            "Shannon-Fano code efficiency:  0.9948140534108271\n"
          ]
        }
      ]
    },
    {
      "cell_type": "markdown",
      "source": [
        "**8-Efficiency Comparison: Shannon-Fanovs. Huffman Codes**"
      ],
      "metadata": {
        "id": "fef0d_oLqAG3"
      }
    },
    {
      "cell_type": "code",
      "source": [
        "# Comparison Function using pre-computed variables\n",
        "def compare_coding_methods(fixed_avg_length, huffman_avg_length, shannon_fano_avg_length,\n",
        "                           fixed_efficiency, huffman_efficiency, shannon_fano_efficiency):\n",
        "    # Display Results\n",
        "    print(f\"{'Method':<15} {'Average Length':<20} {'Efficiency (%)':<20}\")\n",
        "    print(f\"{'Fixed-Length':<15} {fixed_avg_length:<20.4f} {fixed_efficiency * 100:<20.2f}\")\n",
        "    print(f\"{'Huffman':<15} {huffman_avg_length:<20.4f} {huffman_efficiency * 100:<20.2f}\")\n",
        "    print(f\"{'Shannon-Fano':<15} {shannon_fano_avg_length:<20.4f} {shannon_fano_efficiency * 100:<20.2f}\")\n",
        "\n",
        "# Call the function with the pre-computed values\n",
        "compare_coding_methods(bits_fixed_length, math.ceil(CalculateEfficiencyHuffman()*entropy), math.ceil(CalculateEfficiencyShannon()*entropy),\n",
        "                       effeciency_fixed_length, CalculateEfficiencyHuffman(), CalculateEfficiencyShannon())\n"
      ],
      "metadata": {
        "colab": {
          "base_uri": "https://localhost:8080/"
        },
        "id": "bAd4QQ8hsHQs",
        "outputId": "b24b5594-734d-4158-9df5-85f95532f15e"
      },
      "execution_count": 48,
      "outputs": [
        {
          "output_type": "stream",
          "name": "stdout",
          "text": [
            "Method          Average Length       Efficiency (%)      \n",
            "Fixed-Length    6.0000               70.95               \n",
            "Huffman         5.0000               99.55               \n",
            "Shannon-Fano    5.0000               99.48               \n"
          ]
        }
      ]
    }
  ]
}