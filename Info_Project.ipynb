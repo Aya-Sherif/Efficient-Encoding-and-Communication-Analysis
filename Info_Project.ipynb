{
  "nbformat": 4,
  "nbformat_minor": 0,
  "metadata": {
    "colab": {
      "provenance": [],
      "collapsed_sections": [
        "P5AegQEXGLIB",
        "iA6yGd_4F2Ux",
        "nqep1F-AGxsK",
        "bRZs1TTJFvdm"
      ]
    },
    "kernelspec": {
      "name": "python3",
      "display_name": "Python 3"
    },
    "language_info": {
      "name": "python"
    }
  },
  "cells": [
    {
      "cell_type": "markdown",
      "source": [
        "## Team Memebers\n",
        "\n",
        "\n",
        "*   Aser Osama   202101266\n",
        "\n",
        "*   Aya Sherif    202100642\n",
        "*   Mariam Ismael 202101506\n",
        "\n",
        "\n",
        "*   Salma Hatem 202100381\n",
        "\n"
      ],
      "metadata": {
        "id": "Gy92YDKbT6D9"
      }
    },
    {
      "cell_type": "markdown",
      "source": [
        "# Part 1"
      ],
      "metadata": {
        "id": "tZ4YrFzBpkaG"
      }
    },
    {
      "cell_type": "markdown",
      "source": [
        "## Setup"
      ],
      "metadata": {
        "id": "P5AegQEXGLIB"
      }
    },
    {
      "cell_type": "markdown",
      "source": [
        "Importing file"
      ],
      "metadata": {
        "id": "jHwKbzs6IrD6"
      }
    },
    {
      "cell_type": "code",
      "source": [
        "from google.colab import files\n",
        "\n",
        "\n",
        "text_file = files.upload()"
      ],
      "metadata": {
        "colab": {
          "base_uri": "https://localhost:8080/",
          "height": 73
        },
        "id": "SXLkkhd0ItLq",
        "outputId": "5019f3dd-9c9e-4941-a679-613521c18e8a"
      },
      "execution_count": null,
      "outputs": [
        {
          "output_type": "display_data",
          "data": {
            "text/plain": [
              "<IPython.core.display.HTML object>"
            ],
            "text/html": [
              "\n",
              "     <input type=\"file\" id=\"files-b50ffceb-dcf2-48fa-a9a8-d614c67dc080\" name=\"files[]\" multiple disabled\n",
              "        style=\"border:none\" />\n",
              "     <output id=\"result-b50ffceb-dcf2-48fa-a9a8-d614c67dc080\">\n",
              "      Upload widget is only available when the cell has been executed in the\n",
              "      current browser session. Please rerun this cell to enable.\n",
              "      </output>\n",
              "      <script>// Copyright 2017 Google LLC\n",
              "//\n",
              "// Licensed under the Apache License, Version 2.0 (the \"License\");\n",
              "// you may not use this file except in compliance with the License.\n",
              "// You may obtain a copy of the License at\n",
              "//\n",
              "//      http://www.apache.org/licenses/LICENSE-2.0\n",
              "//\n",
              "// Unless required by applicable law or agreed to in writing, software\n",
              "// distributed under the License is distributed on an \"AS IS\" BASIS,\n",
              "// WITHOUT WARRANTIES OR CONDITIONS OF ANY KIND, either express or implied.\n",
              "// See the License for the specific language governing permissions and\n",
              "// limitations under the License.\n",
              "\n",
              "/**\n",
              " * @fileoverview Helpers for google.colab Python module.\n",
              " */\n",
              "(function(scope) {\n",
              "function span(text, styleAttributes = {}) {\n",
              "  const element = document.createElement('span');\n",
              "  element.textContent = text;\n",
              "  for (const key of Object.keys(styleAttributes)) {\n",
              "    element.style[key] = styleAttributes[key];\n",
              "  }\n",
              "  return element;\n",
              "}\n",
              "\n",
              "// Max number of bytes which will be uploaded at a time.\n",
              "const MAX_PAYLOAD_SIZE = 100 * 1024;\n",
              "\n",
              "function _uploadFiles(inputId, outputId) {\n",
              "  const steps = uploadFilesStep(inputId, outputId);\n",
              "  const outputElement = document.getElementById(outputId);\n",
              "  // Cache steps on the outputElement to make it available for the next call\n",
              "  // to uploadFilesContinue from Python.\n",
              "  outputElement.steps = steps;\n",
              "\n",
              "  return _uploadFilesContinue(outputId);\n",
              "}\n",
              "\n",
              "// This is roughly an async generator (not supported in the browser yet),\n",
              "// where there are multiple asynchronous steps and the Python side is going\n",
              "// to poll for completion of each step.\n",
              "// This uses a Promise to block the python side on completion of each step,\n",
              "// then passes the result of the previous step as the input to the next step.\n",
              "function _uploadFilesContinue(outputId) {\n",
              "  const outputElement = document.getElementById(outputId);\n",
              "  const steps = outputElement.steps;\n",
              "\n",
              "  const next = steps.next(outputElement.lastPromiseValue);\n",
              "  return Promise.resolve(next.value.promise).then((value) => {\n",
              "    // Cache the last promise value to make it available to the next\n",
              "    // step of the generator.\n",
              "    outputElement.lastPromiseValue = value;\n",
              "    return next.value.response;\n",
              "  });\n",
              "}\n",
              "\n",
              "/**\n",
              " * Generator function which is called between each async step of the upload\n",
              " * process.\n",
              " * @param {string} inputId Element ID of the input file picker element.\n",
              " * @param {string} outputId Element ID of the output display.\n",
              " * @return {!Iterable<!Object>} Iterable of next steps.\n",
              " */\n",
              "function* uploadFilesStep(inputId, outputId) {\n",
              "  const inputElement = document.getElementById(inputId);\n",
              "  inputElement.disabled = false;\n",
              "\n",
              "  const outputElement = document.getElementById(outputId);\n",
              "  outputElement.innerHTML = '';\n",
              "\n",
              "  const pickedPromise = new Promise((resolve) => {\n",
              "    inputElement.addEventListener('change', (e) => {\n",
              "      resolve(e.target.files);\n",
              "    });\n",
              "  });\n",
              "\n",
              "  const cancel = document.createElement('button');\n",
              "  inputElement.parentElement.appendChild(cancel);\n",
              "  cancel.textContent = 'Cancel upload';\n",
              "  const cancelPromise = new Promise((resolve) => {\n",
              "    cancel.onclick = () => {\n",
              "      resolve(null);\n",
              "    };\n",
              "  });\n",
              "\n",
              "  // Wait for the user to pick the files.\n",
              "  const files = yield {\n",
              "    promise: Promise.race([pickedPromise, cancelPromise]),\n",
              "    response: {\n",
              "      action: 'starting',\n",
              "    }\n",
              "  };\n",
              "\n",
              "  cancel.remove();\n",
              "\n",
              "  // Disable the input element since further picks are not allowed.\n",
              "  inputElement.disabled = true;\n",
              "\n",
              "  if (!files) {\n",
              "    return {\n",
              "      response: {\n",
              "        action: 'complete',\n",
              "      }\n",
              "    };\n",
              "  }\n",
              "\n",
              "  for (const file of files) {\n",
              "    const li = document.createElement('li');\n",
              "    li.append(span(file.name, {fontWeight: 'bold'}));\n",
              "    li.append(span(\n",
              "        `(${file.type || 'n/a'}) - ${file.size} bytes, ` +\n",
              "        `last modified: ${\n",
              "            file.lastModifiedDate ? file.lastModifiedDate.toLocaleDateString() :\n",
              "                                    'n/a'} - `));\n",
              "    const percent = span('0% done');\n",
              "    li.appendChild(percent);\n",
              "\n",
              "    outputElement.appendChild(li);\n",
              "\n",
              "    const fileDataPromise = new Promise((resolve) => {\n",
              "      const reader = new FileReader();\n",
              "      reader.onload = (e) => {\n",
              "        resolve(e.target.result);\n",
              "      };\n",
              "      reader.readAsArrayBuffer(file);\n",
              "    });\n",
              "    // Wait for the data to be ready.\n",
              "    let fileData = yield {\n",
              "      promise: fileDataPromise,\n",
              "      response: {\n",
              "        action: 'continue',\n",
              "      }\n",
              "    };\n",
              "\n",
              "    // Use a chunked sending to avoid message size limits. See b/62115660.\n",
              "    let position = 0;\n",
              "    do {\n",
              "      const length = Math.min(fileData.byteLength - position, MAX_PAYLOAD_SIZE);\n",
              "      const chunk = new Uint8Array(fileData, position, length);\n",
              "      position += length;\n",
              "\n",
              "      const base64 = btoa(String.fromCharCode.apply(null, chunk));\n",
              "      yield {\n",
              "        response: {\n",
              "          action: 'append',\n",
              "          file: file.name,\n",
              "          data: base64,\n",
              "        },\n",
              "      };\n",
              "\n",
              "      let percentDone = fileData.byteLength === 0 ?\n",
              "          100 :\n",
              "          Math.round((position / fileData.byteLength) * 100);\n",
              "      percent.textContent = `${percentDone}% done`;\n",
              "\n",
              "    } while (position < fileData.byteLength);\n",
              "  }\n",
              "\n",
              "  // All done.\n",
              "  yield {\n",
              "    response: {\n",
              "      action: 'complete',\n",
              "    }\n",
              "  };\n",
              "}\n",
              "\n",
              "scope.google = scope.google || {};\n",
              "scope.google.colab = scope.google.colab || {};\n",
              "scope.google.colab._files = {\n",
              "  _uploadFiles,\n",
              "  _uploadFilesContinue,\n",
              "};\n",
              "})(self);\n",
              "</script> "
            ]
          },
          "metadata": {}
        },
        {
          "output_type": "stream",
          "name": "stdout",
          "text": [
            "Saving Test_text_file.txt to Test_text_file.txt\n"
          ]
        }
      ]
    },
    {
      "cell_type": "markdown",
      "source": [
        "1. Computing an estimate of the\n",
        "probabilities of the different English characters (symbols) in this text\n",
        "file"
      ],
      "metadata": {
        "id": "nFoji72nFZyR"
      }
    },
    {
      "cell_type": "code",
      "execution_count": null,
      "metadata": {
        "id": "ajfQmsaXFLcu",
        "colab": {
          "base_uri": "https://localhost:8080/"
        },
        "outputId": "1a9a24d8-dbea-4317-8bd9-54b49e3f2e09"
      },
      "outputs": [
        {
          "output_type": "stream",
          "name": "stdout",
          "text": [
            "{'a': 0.07193732193732194, 'b': 0.012108262108262107, 'c': 0.026353276353276354, 'd': 0.045584045584045586, 'e': 0.10398860398860399, 'f': 0.013532763532763533, 'g': 0.014245014245014245, 'h': 0.02207977207977208, 'i': 0.06054131054131054, 'j': 0.0007122507122507123, 'k': 0.0007122507122507123, 'l': 0.04202279202279202, 'm': 0.021367521367521368, 'n': 0.0641025641025641, 'o': 0.06267806267806268, 'p': 0.037037037037037035, 'q': 0.0007122507122507123, 'r': 0.05982905982905983, 's': 0.05626780626780627, 't': 0.07193732193732194, 'u': 0.018518518518518517, 'v': 0.009259259259259259, 'w': 0.007834757834757835, 'x': 0.004985754985754986, 'y': 0.00641025641025641, 'z': 0.002136752136752137, '(': 0.002136752136752137, ')': 0.002136752136752137, '.': 0.004273504273504274, ',': 0.007834757834757835, '/': 0.0007122507122507123, '-': 0.011396011396011397, ' ': 0.1346153846153846}\n"
          ]
        }
      ],
      "source": [
        "# saving the text in the file in a string\n",
        "text = text_file[\"Test_text_file.txt\"]\n",
        "\n",
        "text = str(text)\n",
        "text = text[2:len(text)-1]\n",
        "\n",
        "# create dictionary with character and their coressponding probability\n",
        "char_probability = {}\n",
        "for i in range(97, 123):\n",
        "    char_probability[chr(i)] = 0\n",
        "char_probability['('] = 0\n",
        "char_probability[')'] = 0\n",
        "char_probability['.'] = 0\n",
        "char_probability[','] = 0\n",
        "char_probability['/'] = 0\n",
        "char_probability['-'] = 0\n",
        "char_probability[' '] = 0\n",
        "\n",
        "for c in text:\n",
        "    char_probability[c] += 1\n",
        "for x in char_probability:\n",
        "    char_probability[x] = char_probability[x]/len(text)\n",
        "print(char_probability)"
      ]
    },
    {
      "cell_type": "markdown",
      "source": [
        "2. Calculating the entropy"
      ],
      "metadata": {
        "id": "B43eowA7Fl9g"
      }
    },
    {
      "cell_type": "code",
      "source": [
        "import math\n",
        "entropy = 0\n",
        "for c in char_probability:\n",
        "    entropy += -char_probability[c] * math.log2(char_probability[c])\n",
        "\n",
        "entropy"
      ],
      "metadata": {
        "id": "zXy3tpydFtkZ",
        "colab": {
          "base_uri": "https://localhost:8080/"
        },
        "outputId": "e0ec19f0-84d9-463e-a9de-15603178d67d"
      },
      "execution_count": null,
      "outputs": [
        {
          "output_type": "execute_result",
          "data": {
            "text/plain": [
              "4.25701056473807"
            ]
          },
          "metadata": {},
          "execution_count": 3
        }
      ]
    },
    {
      "cell_type": "markdown",
      "source": [
        "3. Calculating the number of bits/symbol in a fixed length\n",
        "code and its effeciency"
      ],
      "metadata": {
        "id": "toNHMZASFt1B"
      }
    },
    {
      "cell_type": "code",
      "source": [
        "bits_fixed_length =  math.ceil(math.log2(len(char_probability)))\n",
        "effeciency_fixed_length = entropy/bits_fixed_length\n",
        "print(\"fixed length code\\t \"+ str(bits_fixed_length) + \" bits/symbol\\n\", \"effeciency\\t\\t\", effeciency_fixed_length*100, \" %\")"
      ],
      "metadata": {
        "id": "R6tfd8q7F2Dh",
        "colab": {
          "base_uri": "https://localhost:8080/"
        },
        "outputId": "c02172df-4758-4926-a628-26f2bd712efb"
      },
      "execution_count": null,
      "outputs": [
        {
          "output_type": "stream",
          "name": "stdout",
          "text": [
            "fixed length code\t 6 bits/symbol\n",
            " effeciency\t\t 70.95017607896783  %\n"
          ]
        }
      ]
    },
    {
      "cell_type": "markdown",
      "source": [
        "## Huffman"
      ],
      "metadata": {
        "id": "iA6yGd_4F2Ux"
      }
    },
    {
      "cell_type": "markdown",
      "source": [
        "4. Encoder"
      ],
      "metadata": {
        "id": "slYA-BqLGHXR"
      }
    },
    {
      "cell_type": "code",
      "source": [
        "# creating class for tree node\n",
        "class Node:\n",
        "    def __init__(self, char=None, probability=0):\n",
        "        self.char = char\n",
        "        self.probability = probability\n",
        "        self.left = None\n",
        "        self.right = None\n",
        "\n",
        "# initializing nodes\n",
        "tree = []\n",
        "for x in char_probability:\n",
        "    tree.append(Node(x, char_probability[x]))\n",
        "\n",
        "# creating tree\n",
        "while(len(tree) > 1):\n",
        "    tree.sort(key = lambda p: -p.probability)  # sort probabilities descendingly\n",
        "    left = tree.pop()\n",
        "    right = tree.pop()\n",
        "    node = Node('*',left.probability + right.probability)\n",
        "    node.right = right\n",
        "    node.left = left\n",
        "    tree.append(node)\n",
        "\n",
        "\n",
        "\n",
        "# creating code\n",
        "char_code = {}\n",
        "for x in char_probability:\n",
        "    char_code[x] = \"\"\n",
        "\n",
        "def code(node, node_code):\n",
        "    if node:\n",
        "        if node.char != '*':\n",
        "            char_code[node.char] = node_code\n",
        "        code(node.left, node_code + \"0\")\n",
        "        code(node.right, node_code  + \"1\")\n",
        "\n",
        "code(tree[0],'')\n",
        "\n",
        "def encode_huffman(text):\n",
        "    encoded_text = \"\"\n",
        "    for s in text:\n",
        "        encoded_text += char_code[s]\n",
        "\n",
        "    return encoded_text\n",
        "\n",
        "huffman_encoded_text = encode_huffman(text)\n"
      ],
      "metadata": {
        "id": "0pxKnfyeGY8x"
      },
      "execution_count": null,
      "outputs": []
    },
    {
      "cell_type": "markdown",
      "source": [
        "5. Decoder"
      ],
      "metadata": {
        "id": "1kaqC2-TGZMa"
      }
    },
    {
      "cell_type": "code",
      "source": [
        "# Decode the Huffman encoded text directly\n",
        "def decode_huffman(encoded_text, root):\n",
        "    decoded_text = \"\"\n",
        "    current_node = root\n",
        "\n",
        "    for bit in encoded_text:\n",
        "        if bit == '0':\n",
        "            current_node = current_node.left\n",
        "        elif bit == '1':\n",
        "            current_node = current_node.right\n",
        "\n",
        "        # If a leaf node is reached, append the character and reset to root\n",
        "        if current_node.char != '*':  # Leaf node\n",
        "            decoded_text += current_node.char\n",
        "            current_node = root  # Reset to root for the next character\n",
        "\n",
        "    return decoded_text\n",
        "\n",
        "# Decode the encoded text\n",
        "decoded_text = decode_huffman(huffman_encoded_text, tree[0])\n",
        "\n",
        "# Print the decoded text\n",
        "print(\"Decoded Text:\")\n",
        "print(decoded_text)\n",
        "\n"
      ],
      "metadata": {
        "id": "92XJwQ8BGh0i",
        "colab": {
          "base_uri": "https://localhost:8080/"
        },
        "outputId": "dd0380c6-d3fc-4fad-90e6-00afcf12a28d"
      },
      "execution_count": null,
      "outputs": [
        {
          "output_type": "stream",
          "name": "stdout",
          "text": [
            "Decoded Text:\n",
            "in this paper, a novel decorrelation-based concurrent digital predistortion (dpd) solution is proposed for dual-band transmitters (tx) employing a single wideband power amplifier (pa), and utilizing just a single feedback receiver path. the proposed decorrelation-based parameter learning solution is both flexible and simple, and operates in a closed-loop manner, opposed to the widely applied indirect learning architecture. the proposed decorrelation-based learning and dpd processing can also be effectively applied to more ordinary single-band transmissions, as well as generalized to more than two transmit bands. through a comprehensive analysis covering both the dpd parameter learning and the main path processing, it is shown that the complexity of the proposed concurrent dpd is substantially lower compared with the other state-of-the-art concurrent dpd methods. extensive set of quantitative simulation and rf measurement results are also presented, using a base-station pa as well as a commercial lte-advanced mobile pa, to evaluate and validate the effectiveness of the proposed dpd solution in various real world scenarios, incorporating single-band/dual-band tx cases. the simulation and rf measurement results demonstrate excellent linearization performance of the proposed concurrent dpd, even outperforming current state-of-the-art methods, despite the significantly lower complexity.\n"
          ]
        }
      ]
    },
    {
      "cell_type": "code",
      "source": [
        "with open(\"decode_file_huffman.txt\", \"w\") as file:\n",
        "    file.write(decoded_text)\n",
        "file.close()"
      ],
      "metadata": {
        "id": "rL6GpB0hdOPy"
      },
      "execution_count": null,
      "outputs": []
    },
    {
      "cell_type": "markdown",
      "source": [
        "comparing decoded stream with the original stream"
      ],
      "metadata": {
        "id": "5zQe7w3IGkGx"
      }
    },
    {
      "cell_type": "code",
      "source": [
        "\n",
        "def CompareTexts(text1, text2):\n",
        "  if len(text1) != len(text2):\n",
        "    return False\n",
        "  for i in range(0, len(text1)):\n",
        "    if text1[i] != text2[i]:\n",
        "      print(i)\n",
        "      return False\n",
        "  return True\n",
        "\n",
        "print(\"Texts are the same\") if CompareTexts(text, decoded_text) else print(\"Texts are not the same\")"
      ],
      "metadata": {
        "id": "6ZcIiHbycxlk",
        "colab": {
          "base_uri": "https://localhost:8080/"
        },
        "outputId": "5252a36c-57f6-4873-951a-5affcf32d790"
      },
      "execution_count": null,
      "outputs": [
        {
          "output_type": "stream",
          "name": "stdout",
          "text": [
            "Texts are the same\n"
          ]
        }
      ]
    },
    {
      "cell_type": "markdown",
      "source": [
        "6. Calculating the efficiency of the Huffman code"
      ],
      "metadata": {
        "id": "IyYwqAGBGsiB"
      }
    },
    {
      "cell_type": "code",
      "source": [
        "def CalculateEfficiencyHuffman():\n",
        "  average_code_length = 0\n",
        "  for code in char_code:\n",
        "    average_code_length += len(char_code[code]) * char_probability[code]\n",
        "  return entropy / average_code_length\n",
        "\n",
        "print(\"Huffman code efficiency: \", CalculateEfficiencyHuffman())"
      ],
      "metadata": {
        "id": "H5FIuw4DGxbZ",
        "colab": {
          "base_uri": "https://localhost:8080/"
        },
        "outputId": "7735046a-70fe-4bf0-83e0-ade57f540b9f"
      },
      "execution_count": null,
      "outputs": [
        {
          "output_type": "stream",
          "name": "stdout",
          "text": [
            "Huffman code efficiency:  0.995476820934752\n"
          ]
        }
      ]
    },
    {
      "cell_type": "markdown",
      "source": [
        "## Shannon-Fano"
      ],
      "metadata": {
        "id": "nqep1F-AGxsK"
      }
    },
    {
      "cell_type": "markdown",
      "source": [
        "7. Encoder"
      ],
      "metadata": {
        "id": "TIfLCzegG6MB"
      }
    },
    {
      "cell_type": "code",
      "source": [
        "from pprint import pprint\n",
        "def ShannonFanoEncoder(symbols):\n",
        "  codes = {}\n",
        "  assignCodes(symbols, \"\", codes)\n",
        "  return codes\n",
        "\n",
        "def assignCodes(symbols, prefix, codes):\n",
        "    if len(symbols) == 1:\n",
        "        codes[symbols[0][0]] = prefix\n",
        "        return\n",
        "\n",
        "    splitPoint = findSplitPoint(symbols)\n",
        "    firstGroup = symbols[:splitPoint + 1]\n",
        "    secondGroup = symbols[splitPoint + 1:]\n",
        "\n",
        "    assignCodes(firstGroup, prefix + \"0\", codes)\n",
        "    assignCodes(secondGroup, prefix + \"1\", codes)\n",
        "\n",
        "\n",
        "def findSplitPoint(symbols):\n",
        "    totalFrequency = 0\n",
        "    for i in range(0, len(symbols)):\n",
        "        totalFrequency += symbols[i][1]\n",
        "\n",
        "    cumulativeFrequency = 0\n",
        "    half_total = totalFrequency / 2\n",
        "    for i in range(0, len(symbols)):\n",
        "        cumulativeFrequency += symbols[i][1]\n",
        "        if cumulativeFrequency >= half_total:\n",
        "          return i if (abs(cumulativeFrequency - half_total) < abs(cumulativeFrequency - (half_total + symbols[i][1]))) else i - 1\n",
        "\n",
        "\n",
        "    return len(symbols) - 1\n",
        "\n",
        "def EncodeText(text, codes):\n",
        "  encoded_text = \"\"\n",
        "  for char in text:\n",
        "    encoded_text += codes[char]\n",
        "  return encoded_text\n",
        "\n",
        "\n",
        "char_probability1 = {\n",
        "    'a': 0.3,\n",
        "    'b': 0.25,\n",
        "    'c': 0.2,\n",
        "    'd': 0.15,\n",
        "    'e': 0.1\n",
        "}\n",
        "text1 = \"abcdabcdabdd\"\n",
        "\n",
        "sorted_char_probability = sorted(char_probability.items(), key=lambda x: x[1],  reverse=True)\n",
        "codes = ShannonFanoEncoder(sorted_char_probability)\n",
        "shannon_encoded_text = EncodeText(text, codes)"
      ],
      "metadata": {
        "id": "2-YQuil8G9RZ"
      },
      "execution_count": null,
      "outputs": []
    },
    {
      "cell_type": "markdown",
      "source": [
        "Shannon-Fano codes"
      ],
      "metadata": {
        "id": "cdmLWElIJjHX"
      }
    },
    {
      "cell_type": "code",
      "source": [
        "print(\"{:<10} {:<10}\".format('character', 'code'))\n",
        "for key, value in codes.items():\n",
        "    print(\"{:<10} {:<10}\".format(key, value))"
      ],
      "metadata": {
        "id": "D_dGq2waJmCG",
        "collapsed": true,
        "colab": {
          "base_uri": "https://localhost:8080/"
        },
        "outputId": "2efadd29-de79-4aca-adbf-ea8785587d63"
      },
      "execution_count": null,
      "outputs": [
        {
          "output_type": "stream",
          "name": "stdout",
          "text": [
            "character  code      \n",
            "           000       \n",
            "e          001       \n",
            "a          0100      \n",
            "t          0101      \n",
            "n          0110      \n",
            "o          0111      \n",
            "i          1000      \n",
            "r          1001      \n",
            "s          1010      \n",
            "d          10110     \n",
            "l          10111     \n",
            "p          11000     \n",
            "c          11001     \n",
            "h          11010     \n",
            "m          11011     \n",
            "u          111000    \n",
            "g          111001    \n",
            "f          111010    \n",
            "b          111011    \n",
            "-          111100    \n",
            "v          1111010   \n",
            "w          1111011   \n",
            ",          1111100   \n",
            "y          1111101   \n",
            "x          11111100  \n",
            ".          11111101  \n",
            "z          111111100 \n",
            "(          111111101 \n",
            ")          1111111100\n",
            "j          1111111101\n",
            "k          1111111110\n",
            "q          11111111110\n",
            "/          11111111111\n"
          ]
        }
      ]
    },
    {
      "cell_type": "markdown",
      "source": [
        "Decoder"
      ],
      "metadata": {
        "id": "mGdWJkRBG9oZ"
      }
    },
    {
      "cell_type": "code",
      "source": [
        "def ShannonFanoDecoder(encoded_text, codes):\n",
        "    decoded_text = \"\"\n",
        "    current_code = \"\"\n",
        "    for char in encoded_text:\n",
        "        current_code += char\n",
        "        for code in codes:\n",
        "            if codes[code] == current_code:\n",
        "                decoded_text += code\n",
        "                current_code = \"\"\n",
        "                break\n",
        "    return decoded_text\n",
        "\n",
        "\n",
        "shannon_decoded_text = ShannonFanoDecoder(shannon_encoded_text, codes)\n"
      ],
      "metadata": {
        "id": "PfhA0YUDG-5B"
      },
      "execution_count": null,
      "outputs": []
    },
    {
      "cell_type": "code",
      "source": [
        "with open(\"decode_file_shannon.txt\", \"w\") as file:\n",
        "    file.write(decoded_text)\n",
        "file.close()"
      ],
      "metadata": {
        "id": "HEXs_0t9KKDG"
      },
      "execution_count": null,
      "outputs": []
    },
    {
      "cell_type": "markdown",
      "source": [
        "comparing decoded stream with the original stream"
      ],
      "metadata": {
        "id": "8za20g6eG_LB"
      }
    },
    {
      "cell_type": "code",
      "source": [
        "def CompareTexts(text1, text2):\n",
        "  if len(text1) != len(text2):\n",
        "    return False\n",
        "  for i in range(0, len(text1)):\n",
        "    if text1[i] != text2[i]:\n",
        "      print(i)\n",
        "      return False\n",
        "  return True\n",
        "\n",
        "print(\"Texts are the same\") if CompareTexts(text, shannon_decoded_text) else print(\"Texts are not the same\")"
      ],
      "metadata": {
        "id": "heCGEa2hHBt5",
        "colab": {
          "base_uri": "https://localhost:8080/"
        },
        "outputId": "4b36c003-3601-4ff0-814f-535410ee2b6b"
      },
      "execution_count": null,
      "outputs": [
        {
          "output_type": "stream",
          "name": "stdout",
          "text": [
            "Texts are the same\n"
          ]
        }
      ]
    },
    {
      "cell_type": "markdown",
      "source": [
        "Calculating the efficiency of the Shannon-Fano code"
      ],
      "metadata": {
        "id": "_mWqAdIwHB5a"
      }
    },
    {
      "cell_type": "code",
      "source": [
        "def CalculateEfficiencyShannon():\n",
        "  average_code_length = 0\n",
        "  for code in codes:\n",
        "    average_code_length += len(codes[code]) * char_probability[code]\n",
        "  return entropy / average_code_length\n",
        "\n",
        "print(\"Shannon-Fano code efficiency: \", CalculateEfficiencyShannon())"
      ],
      "metadata": {
        "id": "iZAgCOGzHIF6",
        "colab": {
          "base_uri": "https://localhost:8080/"
        },
        "outputId": "9d6deea4-c2d0-44b6-c1df-4e3a6589f5d4"
      },
      "execution_count": null,
      "outputs": [
        {
          "output_type": "stream",
          "name": "stdout",
          "text": [
            "Shannon-Fano code efficiency:  0.9948140534108271\n"
          ]
        }
      ]
    },
    {
      "cell_type": "markdown",
      "source": [
        "**8-Efficiency Comparison: Shannon-Fanovs. Huffman Codes**"
      ],
      "metadata": {
        "id": "fef0d_oLqAG3"
      }
    },
    {
      "cell_type": "code",
      "source": [
        "# Comparison Function using pre-computed variables\n",
        "def compare_coding_methods(fixed_avg_length, huffman_avg_length, shannon_fano_avg_length,\n",
        "                           fixed_efficiency, huffman_efficiency, shannon_fano_efficiency):\n",
        "    # Display Results\n",
        "    print(f\"{'Method':<15} {'Average Length':<20} {'Efficiency (%)':<20}\")\n",
        "    print(f\"{'Fixed-Length':<15} {fixed_avg_length:<20.4f} {fixed_efficiency * 100:<20.2f}\")\n",
        "    print(f\"{'Huffman':<15} {huffman_avg_length:<20.4f} {huffman_efficiency * 100:<20.2f}\")\n",
        "    print(f\"{'Shannon-Fano':<15} {shannon_fano_avg_length:<20.4f} {shannon_fano_efficiency * 100:<20.2f}\")\n",
        "\n",
        "# Call the function with the pre-computed values\n",
        "compare_coding_methods(bits_fixed_length, math.ceil(CalculateEfficiencyHuffman()*entropy), math.ceil(CalculateEfficiencyShannon()*entropy),\n",
        "                       effeciency_fixed_length, CalculateEfficiencyHuffman(), CalculateEfficiencyShannon())\n"
      ],
      "metadata": {
        "id": "bAd4QQ8hsHQs",
        "colab": {
          "base_uri": "https://localhost:8080/"
        },
        "outputId": "3d2bab71-b68f-4cf6-ca32-eabde026956e"
      },
      "execution_count": null,
      "outputs": [
        {
          "output_type": "stream",
          "name": "stdout",
          "text": [
            "Method          Average Length       Efficiency (%)      \n",
            "Fixed-Length    6.0000               70.95               \n",
            "Huffman         5.0000               99.55               \n",
            "Shannon-Fano    5.0000               99.48               \n"
          ]
        }
      ]
    },
    {
      "cell_type": "markdown",
      "source": [
        "#Part 2"
      ],
      "metadata": {
        "id": "AEdZ_IarDHPu"
      }
    },
    {
      "cell_type": "code",
      "source": [
        "import numpy as np"
      ],
      "metadata": {
        "id": "aOW2EBrdXpsv"
      },
      "execution_count": null,
      "outputs": []
    },
    {
      "cell_type": "markdown",
      "source": [
        "### Encoder"
      ],
      "metadata": {
        "id": "bRZs1TTJFvdm"
      }
    },
    {
      "cell_type": "code",
      "source": [
        "G = np.array([[1, 1, 0, 1, 0, 0, 0],\n",
        "              [0, 1, 1, 0, 1, 0, 0],\n",
        "              [1, 1, 1, 0, 0, 1, 0],\n",
        "              [1, 0, 1, 0, 0, 0, 1]])"
      ],
      "metadata": {
        "id": "_pDYsAbIDLw2"
      },
      "execution_count": null,
      "outputs": []
    },
    {
      "cell_type": "code",
      "source": [
        "def hammingCodeEncoder(input_text):\n",
        "  input_text += '0' * (len(input_text) % 4)\n",
        "  encoded_bits =[]\n",
        "  for i in range(0,len(input_text),4):\n",
        "      m = []\n",
        "      for j in range(4):\n",
        "          m.append(int(input_text[i+j]))\n",
        "      c = m @ G\n",
        "      c = c % 2\n",
        "      encoded_bits = np.concatenate((encoded_bits,c))\n",
        "      BPSK = encoded_bits*2-1\n",
        "  return encoded_bits, BPSK\n",
        "\n",
        "\n",
        "def AWGN(signal, snr_db):\n",
        "    snr = 10**(snr_db/10)\n",
        "    power = np.mean((signal)**2)\n",
        "    noise_power = power/snr     # snr = power/noise_power\n",
        "    noise = np.random.normal(0,1,len(signal))\n",
        "    noise *= noise_power\n",
        "    return signal + noise"
      ],
      "metadata": {
        "id": "DZ4-gDs1ZNlf"
      },
      "execution_count": null,
      "outputs": []
    },
    {
      "cell_type": "code",
      "source": [
        "encoded_bits, BPSK_signal = hammingCodeEncoder(huffman_encoded_text)\n",
        "noisy_signal = AWGN(BPSK_signal, 10)"
      ],
      "metadata": {
        "id": "MKUDp2-zdJlt"
      },
      "execution_count": null,
      "outputs": []
    },
    {
      "cell_type": "markdown",
      "source": [
        "### Decoder"
      ],
      "metadata": {
        "id": "_hDPv7tJIic1"
      }
    },
    {
      "cell_type": "code",
      "source": [
        "H = np.array([[1, 0, 0, 1, 0, 1, 1],\n",
        "              [0, 1, 0, 1, 1, 1, 0],\n",
        "              [0, 0, 1, 0, 1, 1, 1]])\n"
      ],
      "metadata": {
        "id": "BBgGxOIgBKbm"
      },
      "execution_count": null,
      "outputs": []
    },
    {
      "cell_type": "code",
      "source": [
        "from pprint import pprint\n",
        "def generate_error_codes():\n",
        "  error_codes = {}\n",
        "  i_mat = np.identity(7, dtype=int)\n",
        "  i_z = [0, 0, 0, 0, 0, 0, 0]\n",
        "  syndrome = tuple(i_z @ H.T % 2)\n",
        "  error_codes[syndrome] = i_z\n",
        "  for i in range(7):\n",
        "    syndrome = tuple(i_mat[i] @ H.T % 2)\n",
        "    error_codes[syndrome] = list(i_mat[i])\n",
        "  return error_codes\n",
        "\n",
        "error_codes = generate_error_codes()\n",
        "# pprint(error_codes)\n",
        "\n",
        "def hammingCodeDecoder(noisy_signal):\n",
        "# Threshold the noisy BPSK signal to convert to binary\n",
        "    received_signal = []\n",
        "    for value in noisy_signal:\n",
        "        if value > 0:\n",
        "            received_signal.append(1)\n",
        "        else:\n",
        "            received_signal.append(0)\n",
        "\n",
        "    decoded_messages = []\n",
        "    corrected_codewords = []\n",
        "\n",
        "    for i in range(0, len(received_signal), 7):\n",
        "      received_codeword = received_signal[i:i+7]\n",
        "      syndrome = tuple(received_codeword @ H.T % 2)\n",
        "      error_code = [0, 0, 0, 0, 0, 0, 0]\n",
        "      if syndrome in error_codes:\n",
        "        error_code = error_codes[syndrome]\n",
        "      # print(received_codeword, error_code, syndrome)\n",
        "      received_codeword = [received_codeword[j] ^ error_code[j] for j in range(7)]\n",
        "      original_message = received_codeword[3:]\n",
        "      decoded_messages.append(original_message)\n",
        "      corrected_codewords.append(received_codeword)\n",
        "\n",
        "      string  = np.concatenate(decoded_messages).tolist()\n",
        "      string = list(map(str, string))\n",
        "      hamming_decoded_messages = ''.join(string)\n",
        "    return hamming_decoded_messages\n",
        "\n",
        "\n",
        "\n",
        "\n"
      ],
      "metadata": {
        "id": "3MJZb83DInq0"
      },
      "execution_count": null,
      "outputs": []
    },
    {
      "cell_type": "code",
      "source": [
        "decoded_messages = hammingCodeDecoder(noisy_signal)\n",
        "print(\"Decoded Messages:\", decoded_messages)\n",
        "# print(\"Corrected Codewords:\", corrected_codewords)\n"
      ],
      "metadata": {
        "id": "PcLUYm6AL2sF",
        "colab": {
          "base_uri": "https://localhost:8080/"
        },
        "outputId": "7aae0567-cb57-4a0e-ec5b-8a08eb6ca8a9"
      },
      "execution_count": null,
      "outputs": [
        {
          "output_type": "stream",
          "name": "stdout",
          "text": [
            "Decoded Messages: 0111100110111001111110111010010111100110111100001011001010111011101101100110001110110001111101010000001000111000011001100011111011011100011110001001000100000101110101000010000101000111000100100011111010011001100011001110010100000111010110011111001101111101011110001100010000011101001100100001101100011110001001101010111101000011100000001011110010101001000111101110101100011110001001101011101001011110001101000111001000010000100001010101001000011010100001110101101111100001000001011101100100001011100011011011001010011111001111100110000101100100101010111101110011101110010111100101001111110111001111010000101010011110010101101011101101010001111001010110111100011010101110011100000010001011101100100001011110010000101110001011010111011111101110011110011101010001110010110101010111101111001101010111100010101110111011001000010111101011000111111100111111011110011110010101101011110111110111101001001100101110110101000111100101011011110001101010100001001000000010111010001111101111100101011000100011001011111101100010110101111001101110011111101011111101110011111100110111100011010001110010000100001000010100000010001110000110011000111110110111000111100010010001000001011101010000100001011110011010110110111111000111000010110101111100011101011010010111100101011010101001000111101110101100011110001001101011101001010001011000110011111110101010011110001111011100111000101111100011011101100100001010100011111111011100111100010101011101110110010000101100011100001011011011100001010010101111001101110110100011111101000010000100000001001111010001000111001011111101101100110010010110010101110110001110011100100001000010000101110010001011100111111001101010111001110000001111100101010101110111100111001111001110010000101011110010000011101100010001111001011111000111010110100101111001010110101110101100001111111101111100001000111100111010011000101011111101110011111100110111100011010001110010000100001000010100000010001110000110011000111110110111000111100010010001000001011101010000100001011111000111010110100101111001010110101110110010000101000011100000010111100011010000001100101000100011110010101101010001111011001101110111110010010001010001010011010010101000101000010001111000111111011000111110010101010111011110011100111100111001000010111001000101111110100001100011011000011000000111100111010110010101010101000111100101011011110001000100000101110110010000101110001101101100101001111100111010001000111100010010100010101110111010100101010111000111110111101011101010010101011000110010010110110111110011111101111000100001011100100010111111010000110001101110011111111011001101110001011101000101110001101101100101001111100111110010100010111011001000001000101111110111001111110110100011101001011011111110111011010001110001111101110001100011111110011001010001111110110001101110110011101111100101010010001110100101000111000111011000101100111100101011010100010110001100111111101110011111100110100001110000001011110011010110110111111000111000010110101111100011101011010010111100101011010111011001000010111001111110011011111101101011110011011110011011100111111101111000110100000011001010001000111100101011001010111010111110010101110100101010011111110000101110100110111001111111101110010111001111110011010001110001111101110011110001111011100111110001010101011000010100101110011111100110111100011010001110010000100001000010100011100010010001111101001100110001100111001010000111000000101011101001010100111010000101010011001101100111000111110111110111100101010101111101000010111000101101010001110001111101110011010110001000010101011100111110011111110111001111110011011000110011111100101101010100110011011100001000100100001010000010011001111110010001001101011011001010001110001001000111110100110011000110011100101000011100000010111111000111001111111000000001000101111110100111101110110000110010100011111101100011010100001110010110000101001011110111111111101011011001110001111100110111000111111011000110101000111111110111010111101101110001111000100110111011001000010101100101001011111100011101010011101001100011111100011001110010101100010100111010111101100010010111010110001101110111110010010001011110001100010100001100111000010000010101110111101001000111100101011010111011010001011101010000100010001001100110111000111100010011011110011011011101010010101011100011111011110101110101001011101101000111000111110111110001011000011011111011111010111110110000100010011010000111011011011001000110010000101111110100000010101111111000110111100110101010111011100100010100111101101101111101110101101110000110111011001000010111101101101111100111000011011100001101110011111100110100101010001010000100011110001111110110001100100101000100101100001010010111001111110011011110001101000111001000010000100001010000111000000101010010001111011101011000111100010011010111100110111101101101011001111000111010010010101100011101111101010101110100001101111000001010100000110011001110101100111100001000101011101011110010001110000110111001000011011011100011110010101101010100011110010101101111000100010000010111011001000011101111110000011101011011111000010000010111011001000010111001110111010100011110101000010100010111111011100111111001101010001111111101110101111011011100011110001001101110110010000101011001010010111111000111010100111010011000111111000110011100101011000101001110101111011000100101000000111111010001001010011000110110111000011010011110111000011001111101111000110011100101111100111100100111010110011111101111011011100011110001001101111000010110010100100001101111101101100100011001101100001010010111001111110011011110001101000111001000010000100001010001110001001000111110100110011000110011100101000011100000001010111010011110110001100110110001110101100111000010110010100100001101111100111100101011010100011111010011001100011001110010101001100110111000010001001000010100000100110011111100100010011010110110010111111000111001111111000000001000101011101000000101001110001111100001101110011111100110101000111010110100101110101000111000111101100111001111001010101011111010000101110001011010100011100011111011100111100011110111001111100010101001011111\n"
          ]
        }
      ]
    },
    {
      "cell_type": "code",
      "source": [
        "# bit_string = \"\"\n",
        "# for message in decoded_messages:\n",
        "#     for bit in message:\n",
        "#          bit_string += str(bit)  # Convert each bit to a string and concatenate\n"
      ],
      "metadata": {
        "id": "SfyhvWMMn6BP"
      },
      "execution_count": null,
      "outputs": []
    },
    {
      "cell_type": "markdown",
      "source": [
        "### BER vs SNR\n"
      ],
      "metadata": {
        "id": "7T2aLdjB5tM_"
      }
    },
    {
      "cell_type": "code",
      "source": [
        "def calculate_BER(original_data, decoded_data):\n",
        "  original_data = np.array(list(original_data))\n",
        "  decoded_data = np.array(list(decoded_data))\n",
        "  errors = np.sum(np.array(original_data) != np.array(decoded_data))\n",
        "  return errors / len(original_data)"
      ],
      "metadata": {
        "id": "gsaqjjLg5wtV"
      },
      "execution_count": null,
      "outputs": []
    },
    {
      "cell_type": "code",
      "source": [
        "def transmitnReceiveBits(bits_to_transmit,snr):\n",
        "    data = np.array(list(bits_to_transmit), dtype=int)\n",
        "    data_noisy_signal = AWGN(data*2-1, snr) #Convert to BPSK before adding noise\n",
        "    decoded_data = []\n",
        "    for value in data_noisy_signal:  #Threshold the noisy signal to get binary values\n",
        "      if value>0:\n",
        "        decoded_data.append(1)\n",
        "      else:\n",
        "        decoded_data.append(0)\n",
        "\n",
        "    decoded_data = list(map(str, decoded_data))\n",
        "    decoded_data = ''.join(decoded_data)\n",
        "    return decoded_data"
      ],
      "metadata": {
        "id": "vMgQ2RZR7dEx"
      },
      "execution_count": null,
      "outputs": []
    },
    {
      "cell_type": "code",
      "source": [
        "def transmitnReceiveBitsWithEncoding(bits_to_transmit,snr):\n",
        "    encoded_data, BPSK = hammingCodeEncoder(bits_to_transmit)\n",
        "    data_noisy_signal = AWGN(BPSK, snr)\n",
        "    decoded_data = hammingCodeDecoder(data_noisy_signal)\n",
        "    return decoded_data"
      ],
      "metadata": {
        "id": "uQ9L9whJCGcu"
      },
      "execution_count": null,
      "outputs": []
    },
    {
      "cell_type": "code",
      "source": [
        "import matplotlib.pyplot as plt\n",
        "\n",
        "snr_range = np.arange(-5,30,1)\n",
        "ber_with_coding=[]\n",
        "ber_without_coding =[]\n",
        "# data = huffman_encoded_text;\n",
        "data = shannon_encoded_text\n",
        "for snr in snr_range:\n",
        "  #with Hamming code\n",
        "  print(snr)\n",
        "  decoded_data_coding = transmitnReceiveBitsWithEncoding(data,snr)\n",
        "  ber_with_coding.append(calculate_BER(data, decoded_data_coding))\n",
        "\n",
        "  #without Hamming code\n",
        "  received_data = transmitnReceiveBits(data,snr)\n",
        "  ber_without_coding.append(calculate_BER(data, received_data))\n",
        "  #print(ber_with_coding)\n"
      ],
      "metadata": {
        "id": "Vl2FEvj_QHW4"
      },
      "execution_count": null,
      "outputs": []
    },
    {
      "cell_type": "code",
      "source": [
        "#plotting\n",
        "plt.figure()\n",
        "plt.plot(snr_range, ber_with_coding, label=\"With Coding\", marker=\"o\")\n",
        "plt.plot(snr_range, ber_without_coding, label=\"Without Coding\", marker=\"x\")\n",
        "plt.xlabel(\"SNR (dB)\")\n",
        "plt.ylabel(\"Bit Error Rate (BER)\")\n",
        "plt.title(\"BER vs. SNR for Hamming Code\")\n",
        "plt.legend()\n",
        "plt.grid(True, which=\"both\")\n",
        "plt.show()\n",
        "#plotting\n",
        "plt.figure()\n",
        "plt.semilogy(snr_range, ber_with_coding, label=\"With Coding\", marker=\"o\")\n",
        "plt.semilogy(snr_range, ber_without_coding, label=\"Without Coding\", marker=\"x\")\n",
        "plt.xlabel(\"SNR (dB)\")\n",
        "plt.ylabel(\"Bit Error Rate (BER)\")\n",
        "plt.title(\"BER vs. SNR for Hamming Code\")\n",
        "plt.legend()\n",
        "plt.grid(True, which=\"both\")\n",
        "plt.show()"
      ],
      "metadata": {
        "colab": {
          "base_uri": "https://localhost:8080/",
          "height": 927
        },
        "id": "1jHmhLyDV8u3",
        "outputId": "ba423dff-b13b-4021-fdee-b74939b248b2"
      },
      "execution_count": null,
      "outputs": [
        {
          "output_type": "display_data",
          "data": {
            "text/plain": [
              "<Figure size 640x480 with 1 Axes>"
            ],
            "image/png": "[encoded data removed]"
          },
          "metadata": {}
        },
        {
          "output_type": "display_data",
          "data": {
            "text/plain": [
              "<Figure size 640x480 with 1 Axes>"
            ],
            "image/png": "[encoded data removed]"
          },
          "metadata": {}
        }
      ]
    },
    {
      "cell_type": "markdown",
      "source": [
        "## End-to-end Communication System"
      ],
      "metadata": {
        "id": "T7q1t8OlT2kv"
      }
    },
    {
      "cell_type": "code",
      "source": [
        "def countDiffChar(a, b):\n",
        "    min_len = min(len(a), len(b))\n",
        "    c = 0\n",
        "\n",
        "    for i in range(min_len):\n",
        "        if a[i] != b[i]:\n",
        "            c += 1\n",
        "\n",
        "    c += abs(len(a) - len(b))\n",
        "\n",
        "    return c\n",
        "countDiffChar(text,text)"
      ],
      "metadata": {
        "colab": {
          "base_uri": "https://localhost:8080/"
        },
        "id": "LTK4eAQYbcdd",
        "outputId": "9556b99e-e113-49f3-bed7-d29fc1cf6400"
      },
      "execution_count": null,
      "outputs": [
        {
          "output_type": "execute_result",
          "data": {
            "text/plain": [
              "0"
            ]
          },
          "metadata": {},
          "execution_count": 30
        }
      ]
    },
    {
      "cell_type": "markdown",
      "source": [
        "Shannon Encoding SNR = 0 dB"
      ],
      "metadata": {
        "id": "aANTD07vUBQX"
      }
    },
    {
      "cell_type": "code",
      "source": [
        "data = shannon_encoded_text\n",
        "snr = 0\n",
        "received_data = transmitnReceiveBits(data,snr)\n",
        "recieved_text = ShannonFanoDecoder(received_data, codes)\n",
        "recieved_text_error_1 = countDiffChar(recieved_text, text)\n",
        "\n",
        "received_data_hamming = transmitnReceiveBitsWithEncoding(data,snr)\n",
        "recieved_text_hamming = ShannonFanoDecoder(received_data_hamming, codes)\n",
        "recieved_text_hamming_error_1 = countDiffChar(recieved_text_hamming, text)\n",
        "\n",
        "ber = calculate_BER(data, received_data)\n",
        "ber_hamming = calculate_BER(data, received_data_hamming)\n",
        "print(\"original text: \")\n",
        "print(text)\n",
        "print(\"\\nShannon Encoding, No channel Encoding, SNR = 0 dB\")\n",
        "print(recieved_text)\n",
        "print(\"\\nShannon Encoding, Hamming channel Encoding, SNR = 0 dB\")\n",
        "print(recieved_text_hamming)"
      ],
      "metadata": {
        "id": "uDzP5ZBWKDiz",
        "colab": {
          "base_uri": "https://localhost:8080/"
        },
        "outputId": "5c43d0b3-f271-4760-ac38-2e510caa6e3f"
      },
      "execution_count": null,
      "outputs": [
        {
          "output_type": "stream",
          "name": "stdout",
          "text": [
            "original text: \n",
            "in this paper, a novel decorrelation-based concurrent digital predistortion (dpd) solution is proposed for dual-band transmitters (tx) employing a single wideband power amplifier (pa), and utilizing just a single feedback receiver path. the proposed decorrelation-based parameter learning solution is both flexible and simple, and operates in a closed-loop manner, opposed to the widely applied indirect learning architecture. the proposed decorrelation-based learning and dpd processing can also be effectively applied to more ordinary single-band transmissions, as well as generalized to more than two transmit bands. through a comprehensive analysis covering both the dpd parameter learning and the main path processing, it is shown that the complexity of the proposed concurrent dpd is substantially lower compared with the other state-of-the-art concurrent dpd methods. extensive set of quantitative simulation and rf measurement results are also presented, using a base-station pa as well as a commercial lte-advanced mobile pa, to evaluate and validate the effectiveness of the proposed dpd solution in various real world scenarios, incorporating single-band/dual-band tx cases. the simulation and rf measurement results demonstrate excellent linearization performance of the proposed concurrent dpd, even outperforming current state-of-the-art methods, despite the significantly lower complexity.\n",
            "\n",
            "Shannon Encoding, No channel Encoding, SNR = 0 dB\n",
            "sn tnao ntepnog poe. cigoaxeoo nuborrst c eeoenos ,dodt onnhtpp mnsgtbh on zdiosopceb- nrm a-esh,euootrafeobnkonipceat pdpetibalntev.aekrmld mrea limrln zmenaamreso-rralnetne- eiexuno-, atd pspl o-ptrcyoctdeita rri  oaamont q hoeo mrcr e ,o-eru aeempraaptiml,rlntpnmctefeeaa  rld dfsga-n ceie gh d u  eaylaepbsm-tnonearhpohhplerit ht , cta e aeia anbhestsuhu te c noi e-neves al thetb triof ic tuee nrs,wca learnta- aprhhswoparruenagirnsecteitcporrnopuemor-r ed ,eesh rcennerteieifroceetolee cp  aeshinainhflos ohh. agi ued to lsro -mpncssataeeclehesptnetdpse pfs bomheea)mgimaecipmalcmrni  t ilre thaa teso trpviie ehnfhehascnlnemh enmoiaenoamoasu e ceouhccveve,eds matr gseaenen ursisetl eoearnpmr phpenpstlia a  ss aadm ssiopbprt  a tnr,rieo ai t-totoaeegxit)on  osrn iopnsed pocrnsnareatl n ss bmiho e sa enj lower alofapea tn ah my tar c nhipflceathlatr iilueurren iedeeedrtdolbdiext feedridtaers ko anartaaeepe srm-latsonen tiohioasto rer dt rstgtti  ar cosom r sncnceuep-moe pe-rp,stntion pa ts --wiasaie lhyibsaleltlptavnfeonerdfileehaof leemreoe thtenspehaefdatn lapeniroroioati rseln l b ei,rhedtngntagnitiede einueo edeasasmiweimrhscenarioencntoe zentrunnee sosng-bccywdn ra-n-fi luirasdroneoapsitdnf nmdeans agime to rlnmniha,ohp rrhdcdcvrto-irliinhe,de apzamipst nobuptnce of thnerrzoser ntmaoib tg dprx even oumierformsogmepaiiatttfsrd flpnoniart trthodixenesppsnedi taernrbciadllnirkcr aew ogmr ty.\n",
            "\n",
            "Shannon Encoding, Hamming channel Encoding, SNR = 0 dB\n",
            "in tpis aeeiertir  ch al deygreyer ocfmasdpntyrui rnolhecitalrire seasmhpoot.lpiooia vd ss, is hwuosed fnr lnhtgemanr enntsds sssndtnsxo-  bprl,snxe apeleirtbis wetm n oclaiel.hfi  i ed a),nihho talcr iele jhhtndtaeytc nledbaco(recr frr pr f. tcaeiroposelrnemorrelthibormasede  reameter learnrewraweitiweps vnlaemgo-icmr nndeean-tqigape- re eesh pe emoosedreoonp m errax oweod   ethms rb tir( a denied indsreca lfad ooeeneio uccifre-aeo e propn o ieaoetriroaaerd-basep larsh md icienpdhoeoceosing asedadi-oprthfehtivooosaeipliedasneddai,m rrp. sie-mr-bons e eanena ttmmtofit orool as gipcispz otoo  car thane yl tranvbarmanlior thizneh a cohoarhol  veiieaddnseaerovde tsioneth the lntgios n ticefteening a ameypmaitti eoe pros hsingy it se tnr.d thao tmiewsligxiay of efe ialcae  a rnbrprrepe gissis s-phvfsaolalathyrr cotfared witl the othnneatig-tfp aaocre csonsxerenrrn-n mey weez gismtaose set o,ekb onptangh tt muwonespe hseoh measuremeit r sults a-se zppa e dnoal epsrng a base-shirsnmn i taebell ai ttrn(rt, ro s icrenvanmdmnmvrc  uitietpetarsfpset dposalicntes -a vtlcacfxnea br lpveati rmn dpd e sxeudae trbmeioui rar.en- w  oeenk es,r ncorporttiee ilgoele-bphl(ie eeo-uand tx isterofeiuisboplgn baaieo uincasfremenl inl ehheplnbtenteee emrrtolepsenineceizaepxl erbmfhedaiof the pseune mentmseprrent dpdyitr lsg tpeonrgminh teaahncatnsei,ofmeaaoennsimethodsea des-mcilaatppoaot paoyosdoowtie.jor.eeoby\n"
          ]
        }
      ]
    },
    {
      "cell_type": "markdown",
      "source": [
        "Shannon Encoding SNR = 3 dB"
      ],
      "metadata": {
        "id": "v3E8GyZgUWTn"
      }
    },
    {
      "cell_type": "code",
      "source": [
        "data = shannon_encoded_text\n",
        "snr = 3\n",
        "received_data = transmitnReceiveBits(data,snr)\n",
        "recieved_text = ShannonFanoDecoder(received_data, codes)\n",
        "recieved_text_error_2 = countDiffChar(recieved_text, text)\n",
        "\n",
        "received_data_hamming = transmitnReceiveBitsWithEncoding(data,snr)\n",
        "recieved_text_hamming = ShannonFanoDecoder(received_data_hamming, codes)\n",
        "recieved_text_hamming_error_2 = countDiffChar(recieved_text_hamming, text)\n",
        "\n",
        "ber = calculate_BER(data, received_data)\n",
        "ber_hamming = calculate_BER(data, received_data_hamming)\n",
        "print(\"original text: \")\n",
        "print(text)\n",
        "print(\"\\nShannon Encoding, No channel Encoding, SNR = 3 dB\")\n",
        "print(recieved_text)\n",
        "print(\"\\nShannon Encoding, Hamming channel Encoding, SNR = 3 dB\")\n",
        "print(recieved_text_hamming)"
      ],
      "metadata": {
        "id": "haMjBi2cTk5P",
        "colab": {
          "base_uri": "https://localhost:8080/"
        },
        "outputId": "8d06c5b3-f672-42a2-859a-ebb9a022e629"
      },
      "execution_count": null,
      "outputs": [
        {
          "output_type": "stream",
          "name": "stdout",
          "text": [
            "original text: \n",
            "in this paper, a novel decorrelation-based concurrent digital predistortion (dpd) solution is proposed for dual-band transmitters (tx) employing a single wideband power amplifier (pa), and utilizing just a single feedback receiver path. the proposed decorrelation-based parameter learning solution is both flexible and simple, and operates in a closed-loop manner, opposed to the widely applied indirect learning architecture. the proposed decorrelation-based learning and dpd processing can also be effectively applied to more ordinary single-band transmissions, as well as generalized to more than two transmit bands. through a comprehensive analysis covering both the dpd parameter learning and the main path processing, it is shown that the complexity of the proposed concurrent dpd is substantially lower compared with the other state-of-the-art concurrent dpd methods. extensive set of quantitative simulation and rf measurement results are also presented, using a base-station pa as well as a commercial lte-advanced mobile pa, to evaluate and validate the effectiveness of the proposed dpd solution in various real world scenarios, incorporating single-band/dual-band tx cases. the simulation and rf measurement results demonstrate excellent linearization performance of the proposed concurrent dpd, even outperforming current state-of-the-art methods, despite the significantly lower complexity.\n",
            "\n",
            "Shannon Encoding, No channel Encoding, SNR = 3 dB\n",
            "in thiun rier, a novel deaxcelttion-bcaaaedbaoimescomaoeitariphnheabasptn (ditl, solution is proposed for dual-bandetransmitters (tx)aooiloying a single wideband powed rlilifier (palg- and f plizing just a single feeelnrrk receiver path. the proptsedrnecorrelntion-base-eiarameter learningraw-spont srmoms flexible nnd sitptix and nunt sniaeie eilosed-loop canneroi ,n ved to the widely applied indihoet learning architecturoy tme proposed decorrelation-based learning phptden processieoe can asho be efbecaively applied t-nmce ordinar-ising,,band transmissions, as weebias generaliw npetpmore thnn two transheeaonihhlf lteough a compreheasive analysis covering bvf ohe dpl parameter easadingaihpevnedr n pat ineeocessing, ihe s shown that the complexitos . eoaaneeoposed concurreeeatden is ssemstantially ltver compardpolala laaehfer sta r-of-the-art concurregatden methodsoh o-tensive set of qu oen sidefe sit-tpeunn aad rf measgrementteesultseaie alio presented, usingiiemase-statioo pa as well as a commemritl lte-advanc d mobile pa, to evtlgatea ndewalidate the effectrveness of the prxef d dpd solgtio-aeiosarious real -lrld scenarioi, iacoipoven mr single-band/dual-bandil- cases,itpe simulation and rftdteoprement results demonstrate excellent linadnexation performance ob the proposed concuihtratden, even on l ercegminverurrent statou.oiltopret mnd ods, despite thsnsecnisseran m. lower comitcxioy.\n",
            "\n",
            "Shannon Encoding, Hamming channel Encoding, SNR = 3 dB\n",
            "in this paper, a novel decorrelation-based concurrent digital predistortion (dpd) solution is proposed for dual-band treesdutters (tx) employing a single wideband power amplifier (pa), an-eptilizble just a single feedback receiver ptth. the proposed d,lrr  hen bormases n reameter learning solution is both fleqoooe and simple, and operates in a closed-loop manner, opposed to the widely applied indirect learning architecture. the proposed decorrelation-based learning and dpd processing can also be effectively applied to more ordinary single-band transmissions, is well as generalized to more than two transmit bands. through a comprehensive analy at nt. cing both the dpd parameter learning and the main path processing, it is shown that the complexity of the proposed concurrent dpd is substantially lower compared with the other state-of-the-art concurrent dpd methods. extensive set of quantitative simulatihpe hpav measurement results are also presented, usionae emase-station pa as wwmias a commercial lte-advanced mobile pa, to evaluate and validate the effectiveness of the proposeiadpd solution in varg,t aral worhd scenarios, incorporating single-band/dual-band tx cases. the simulation and rf measurement resissditibonstrate excellent lineorization performance of the proposed concurrent dpd, even outperforcing current state-of-the-art methods, despite the significantly lower complexity.\n"
          ]
        }
      ]
    },
    {
      "cell_type": "markdown",
      "source": [
        "Shannon Encoding SNR = 10 dB"
      ],
      "metadata": {
        "id": "MqIWhs7iUX33"
      }
    },
    {
      "cell_type": "code",
      "source": [
        "data = shannon_encoded_text\n",
        "snr = 10\n",
        "received_data = transmitnReceiveBits(data,snr)\n",
        "recieved_text = ShannonFanoDecoder(received_data, codes)\n",
        "recieved_text_error_3 = countDiffChar(recieved_text, text)\n",
        "\n",
        "received_data_hamming = transmitnReceiveBitsWithEncoding(data,snr)\n",
        "recieved_text_hamming = ShannonFanoDecoder(received_data_hamming, codes)\n",
        "recieved_text_hamming_error_3 = countDiffChar(recieved_text_hamming, text)\n",
        "\n",
        "ber = calculate_BER(data, received_data)\n",
        "ber_hamming = calculate_BER(data, received_data_hamming)\n",
        "print(\"original text: \")\n",
        "print(text)\n",
        "print(\"\\nShannon Encoding, No channel Encoding, SNR = 10 dB\")\n",
        "print(recieved_text)\n",
        "print(\"\\nShannon Encoding, Hamming channel Encoding, SNR = 10 dB\")\n",
        "print(recieved_text_hamming)"
      ],
      "metadata": {
        "id": "rAKc7jZaSuIf",
        "colab": {
          "base_uri": "https://localhost:8080/"
        },
        "outputId": "0afa350b-af92-4682-8d7a-20a7edf0343a"
      },
      "execution_count": null,
      "outputs": [
        {
          "output_type": "stream",
          "name": "stdout",
          "text": [
            "original text: \n",
            "in this paper, a novel decorrelation-based concurrent digital predistortion (dpd) solution is proposed for dual-band transmitters (tx) employing a single wideband power amplifier (pa), and utilizing just a single feedback receiver path. the proposed decorrelation-based parameter learning solution is both flexible and simple, and operates in a closed-loop manner, opposed to the widely applied indirect learning architecture. the proposed decorrelation-based learning and dpd processing can also be effectively applied to more ordinary single-band transmissions, as well as generalized to more than two transmit bands. through a comprehensive analysis covering both the dpd parameter learning and the main path processing, it is shown that the complexity of the proposed concurrent dpd is substantially lower compared with the other state-of-the-art concurrent dpd methods. extensive set of quantitative simulation and rf measurement results are also presented, using a base-station pa as well as a commercial lte-advanced mobile pa, to evaluate and validate the effectiveness of the proposed dpd solution in various real world scenarios, incorporating single-band/dual-band tx cases. the simulation and rf measurement results demonstrate excellent linearization performance of the proposed concurrent dpd, even outperforming current state-of-the-art methods, despite the significantly lower complexity.\n",
            "\n",
            "Shannon Encoding, No channel Encoding, SNR = 10 dB\n",
            "in this paper, a novel decorrelation-based concurrent digital predistortion (dpd) solution is proposed for dual-band transmitters (tx) employing a single wideband power amplifier (pa), and utilizing just a single feedback receiver path. the proposed decorrelation-based parameter learning solution is both flexible and simple, and operates in a closed-loop manner, opposed to the widely applied indirect learning architecture. the proposed decorrelation-based learning and dpd processing can also be effectively applied to more ordinary single-band transmissions, as well as generalized to more than two transmit bands. through a comprehensive analysis covering both the dpd parameter learning and the main path processing, it is shown that the complexity of the proposed concurrent dpd is substantially lower compared with the other state-of-the-art concurrent dpd methods. extensive set of quantitative simulation and rf measurement results are also presented, using a base-station pa as well as a commercial lte-advanced mobile pa, to evaluate and validate the effectiveness of the proposed dpd solution in various real world scenarios, incorporating single-band/dual-band tx cases. the simulation and rf measurement results demonstrate excellent linearization performance of the proposed concurrent dpd, even outperforming current state-of-the-art methods, despite the significantly lower complexity.\n",
            "\n",
            "Shannon Encoding, Hamming channel Encoding, SNR = 10 dB\n",
            "in this paper, a novel decorrelation-based concurrent digital predistortion (dpd) solution is proposed for dual-band transmitters (tx) employing a single wideband power amplifier (pa), and utilizing just a single feedback receiver path. the proposed decorrelation-based parameter learning solution is both flexible and simple, and operates in a closed-loop manner, opposed to the widely applied indirect learning architecture. the proposed decorrelation-based learning and dpd processing can also be effectively applied to more ordinary single-band transmissions, as well as generalized to more than two transmit bands. through a comprehensive analysis covering both the dpd parameter learning and the main path processing, it is shown that the complexity of the proposed concurrent dpd is substantially lower compared with the other state-of-the-art concurrent dpd methods. extensive set of quantitative simulation and rf measurement results are also presented, using a base-station pa as well as a commercial lte-advanced mobile pa, to evaluate and validate the effectiveness of the proposed dpd solution in various real world scenarios, incorporating single-band/dual-band tx cases. the simulation and rf measurement results demonstrate excellent linearization performance of the proposed concurrent dpd, even outperforming current state-of-the-art methods, despite the significantly lower complexity.\n"
          ]
        }
      ]
    },
    {
      "cell_type": "code",
      "source": [
        "print(\"Shannon Encoding, No channel Encoding, SNR = 0 dB\")\n",
        "print(\"number of erroneous symbols: \", recieved_text_error_1)\n",
        "print(\"error percentage: \", round(recieved_text_error_1/len(text),2)*100)\n",
        "print(\"\\n\")\n",
        "\n",
        "print(\"Shannon Encoding, Hamming channel Encoding, SNR = 0 dB\")\n",
        "print(\"number of erroneous symbols: \", recieved_text_hamming_error_1)\n",
        "print(\"error percentage: \", round(recieved_text_hamming_error_1/len(text),2)*100)\n",
        "print(\"\\n\")\n",
        "\n",
        "\n",
        "print(\"Shannon Encoding, No channel Encoding, SNR = 3 dB\")\n",
        "print(\"number of erroneous symbols: \", recieved_text_error_2)\n",
        "print(\"error percentage: \", round(recieved_text_error_2/len(text),2)*100)\n",
        "print(\"\\n\")\n",
        "\n",
        "print(\"Shannon Encoding, Hamming channel Encoding, SNR = 3 dB\")\n",
        "print(\"number of erroneous symbols: \", recieved_text_hamming_error_2)\n",
        "print(\"error percentage: \", round(recieved_text_hamming_error_2/len(text),2)*100)\n",
        "print(\"\\n\")\n",
        "\n",
        "\n",
        "print(\"Shannon Encoding, No channel Encoding, SNR = 10 dB\")\n",
        "print(\"number of erroneous symbols: \", recieved_text_error_3)\n",
        "print(\"error percentage: \", round(recieved_text_error_3/len(text),2)*100)\n",
        "print(\"\\n\")\n",
        "\n",
        "print(\"Shannon Encoding, Hamming channel Encoding, SNR = 10 dB\")\n",
        "print(\"number of erroneous symbols: \", recieved_text_hamming_error_3)\n",
        "print(\"error percentage: \", round(recieved_text_hamming_error_3/len(text),2)*100)\n",
        "print(\"\\n\")"
      ],
      "metadata": {
        "id": "IaJEMy6KWUxO",
        "colab": {
          "base_uri": "https://localhost:8080/"
        },
        "outputId": "740b9290-00b7-4ffa-ea7b-bab20b3fa829"
      },
      "execution_count": null,
      "outputs": [
        {
          "output_type": "stream",
          "name": "stdout",
          "text": [
            "Shannon Encoding, No channel Encoding, SNR = 0 dB\n",
            "number of erroneous symbols:  1315\n",
            "error percentage:  94.0\n",
            "\n",
            "\n",
            "Shannon Encoding, Hamming channel Encoding, SNR = 0 dB\n",
            "number of erroneous symbols:  1312\n",
            "error percentage:  93.0\n",
            "\n",
            "\n",
            "Shannon Encoding, No channel Encoding, SNR = 3 dB\n",
            "number of erroneous symbols:  1094\n",
            "error percentage:  78.0\n",
            "\n",
            "\n",
            "Shannon Encoding, Hamming channel Encoding, SNR = 3 dB\n",
            "number of erroneous symbols:  979\n",
            "error percentage:  70.0\n",
            "\n",
            "\n",
            "Shannon Encoding, No channel Encoding, SNR = 10 dB\n",
            "number of erroneous symbols:  0\n",
            "error percentage:  0.0\n",
            "\n",
            "\n",
            "Shannon Encoding, Hamming channel Encoding, SNR = 10 dB\n",
            "number of erroneous symbols:  0\n",
            "error percentage:  0.0\n",
            "\n",
            "\n"
          ]
        }
      ]
    }
  ]
}